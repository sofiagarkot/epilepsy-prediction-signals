{
 "cells": [
  {
   "cell_type": "markdown",
   "metadata": {},
   "source": [
    "# Auto-Correlation Window (ACW)\n",
    "The ACW measures repeating patterns in a signal, and enables us to test for the relationship, e.g., correlation in neural activity patterns at different points in time (Murray et al., 2014).  The additional measurements of the PSD and the PLE allowed us to link the ACW to power in different frequencies across normal and disordered states of consciousness. \n",
    "Autocorrelation was calculated using windows of 20 second-length with and overlap of 50%. The lag was set to 0.5 seconds since we observed in a previous study that the ACW values agreed for different lag values (ranged from 0.1 to 1 seconds) (Wolff et al., 2019). \n",
    "\n",
    "Значення вікон автокореляції будуть представляти розповсюдження періодичності сигналу ЕЕГ,  в той час як довша тривалість вікон автокореляції може бути проінтерпретованою як  стабільність частот в часі. \n",
    "\n",
    "Довжина вікна – це індекс який підсумовує рівень регулярності сигналу: довше вікно – більш регулярний сигнал. \n"
   ]
  },
  {
   "cell_type": "code",
   "execution_count": 2,
   "metadata": {},
   "outputs": [],
   "source": [
    "from scipy import signal\n",
    "import mne"
   ]
  },
  {
   "cell_type": "code",
   "execution_count": 3,
   "metadata": {},
   "outputs": [
    {
     "name": "stdout",
     "output_type": "stream",
     "text": [
      "Extracting EDF parameters from /Users/sofiyagarkot/Desktop/Signals/coursework/test_data/chb09/chb09_08.edf...\n",
      "EDF file detected\n",
      "Setting channel info structure...\n",
      "Creating raw.info structure...\n"
     ]
    },
    {
     "name": "stderr",
     "output_type": "stream",
     "text": [
      "<ipython-input-3-e087750797af>:2: RuntimeWarning: Channel names are not unique, found duplicates for: {'T8-P8'}. Applying running numbers for duplicates.\n",
      "  data = mne.io.read_raw_edf(file)\n"
     ]
    },
    {
     "data": {
      "text/plain": [
       "(3686400, 24)"
      ]
     },
     "execution_count": 3,
     "metadata": {},
     "output_type": "execute_result"
    }
   ],
   "source": [
    "file = \"./test_data/chb09/chb09_08.edf\"\n",
    "data = mne.io.read_raw_edf(file)\n",
    "raw_data = data.get_data().T\n",
    "raw_data.shape"
   ]
  },
  {
   "cell_type": "code",
   "execution_count": null,
   "metadata": {},
   "outputs": [],
   "source": []
  },
  {
   "cell_type": "code",
   "execution_count": null,
   "metadata": {},
   "outputs": [],
   "source": []
  }
 ],
 "metadata": {
  "kernelspec": {
   "display_name": "Python 3",
   "language": "python",
   "name": "python3"
  },
  "language_info": {
   "codemirror_mode": {
    "name": "ipython",
    "version": 3
   },
   "file_extension": ".py",
   "mimetype": "text/x-python",
   "name": "python",
   "nbconvert_exporter": "python",
   "pygments_lexer": "ipython3",
   "version": "3.8.3"
  }
 },
 "nbformat": 4,
 "nbformat_minor": 4
}
