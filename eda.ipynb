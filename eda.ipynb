{
 "cells": [
  {
   "cell_type": "markdown",
   "metadata": {},
   "source": [
    "# PROJECT "
   ]
  },
  {
   "cell_type": "code",
   "execution_count": 1,
   "metadata": {},
   "outputs": [],
   "source": [
    "COLORS = ['#1f77b4', '#ff7f0e', '#2ca02c', '#d62728', '#9467bd', '#8c564b', '#930157', '#009966', '#72dfd9', '#e377c2', '#7f7f7f', '#bcbd22', '#17becf',\n",
    "         '#1f77b4', '#ff7f0e', '#2ca02c', '#d62728', '#9467bd', '#8c564b', '#930157', '#009966', '#72dfd9', '#e377c2', '#7f7f7f', '#bcbd22', '#17becf']\n",
    "\n",
    "mapping = {\n",
    "    'FP1-F7':'FP1-F7',\n",
    "  'F7-T7':'F7-T7',\n",
    "  'T7-P7':'T7-P7',\n",
    "  'P7-O1':'P7-O1',\n",
    "  'FP1-F3':'FP1-F3',\n",
    "  'F3-C3':'F3-C3',\n",
    "  'C3-P3':'C3-P3',\n",
    "  'P3-O1':'P3-O1',\n",
    "  'FP2-F4':'FP2-F4',\n",
    "  'F4-C4':'F4-C4',\n",
    "  'C4-P4':'C4-P4',\n",
    "  'P4-O2':'P4-O2',\n",
    "  'FP2-F8':'FP2-F8',\n",
    "  'F8-T8':'F8-T8',\n",
    "  'T8-P8-0':'T8-P8-0',\n",
    "  'P8-O2':'P8-O2',\n",
    "  'FZ-CZ':'FZ-CZ',\n",
    "  'CZ-PZ':'CZ-PZ',\n",
    "  'P7-T7':'P7-T7',\n",
    "  'T7-FT9':'T7-FT9',\n",
    "  'FT9-FT10':'FT9-FT10',\n",
    "  'FT10-T8':'FT10-T8',\n",
    "  'T8-P8-1':'T8-P8-1'\n",
    "}"
   ]
  },
  {
   "cell_type": "code",
   "execution_count": 2,
   "metadata": {
    "pycharm": {
     "name": "#%%\n"
    }
   },
   "outputs": [
    {
     "name": "stdout",
     "output_type": "stream",
     "text": [
      "Extracting EDF parameters from /Users/sofiyagarkot/Desktop/Signals/coursework/test_data/chb01_03.edf...\n",
      "EDF file detected\n"
     ]
    },
    {
     "ename": "FileNotFoundError",
     "evalue": "[Errno 2] No such file or directory: '/Users/sofiyagarkot/Desktop/Signals/coursework/test_data/chb01_03.edf'",
     "output_type": "error",
     "traceback": [
      "\u001B[0;31m---------------------------------------------------------------------------\u001B[0m",
      "\u001B[0;31mFileNotFoundError\u001B[0m                         Traceback (most recent call last)",
      "\u001B[0;32m<ipython-input-2-d5a3383aa0b3>\u001B[0m in \u001B[0;36m<module>\u001B[0;34m\u001B[0m\n\u001B[1;32m      2\u001B[0m \u001B[0;32mimport\u001B[0m \u001B[0mmne\u001B[0m\u001B[0;34m\u001B[0m\u001B[0;34m\u001B[0m\u001B[0m\n\u001B[1;32m      3\u001B[0m \u001B[0mfile\u001B[0m \u001B[0;34m=\u001B[0m \u001B[0;34m\"./test_data/chb01_03.edf\"\u001B[0m\u001B[0;34m\u001B[0m\u001B[0;34m\u001B[0m\u001B[0m\n\u001B[0;32m----> 4\u001B[0;31m \u001B[0mdata\u001B[0m \u001B[0;34m=\u001B[0m \u001B[0mmne\u001B[0m\u001B[0;34m.\u001B[0m\u001B[0mio\u001B[0m\u001B[0;34m.\u001B[0m\u001B[0mread_raw_edf\u001B[0m\u001B[0;34m(\u001B[0m\u001B[0mfile\u001B[0m\u001B[0;34m)\u001B[0m\u001B[0;34m\u001B[0m\u001B[0;34m\u001B[0m\u001B[0m\n\u001B[0m\u001B[1;32m      5\u001B[0m \u001B[0mdata\u001B[0m\u001B[0;34m.\u001B[0m\u001B[0mrename_channels\u001B[0m\u001B[0;34m(\u001B[0m\u001B[0mmapping\u001B[0m\u001B[0;34m)\u001B[0m\u001B[0;34m\u001B[0m\u001B[0;34m\u001B[0m\u001B[0m\n\u001B[1;32m      6\u001B[0m \u001B[0;31m# print(set(data.ch_names).difference(set(['FP1-F7', 'F7-T7', 'T7-P7', 'P7-O1', 'FP1-F3', 'F3-C3', 'C3-P3', 'P3-O1', 'FP2-F4', 'F4-C4', 'C4-P4', 'P4-O2', 'FP2-F8', 'F8-T8', 'T8-P8-0', 'P8-O2', 'FZ-CZ', 'CZ-PZ', 'P7-T7', 'T7-FT9', 'FT9-FT10', 'FT10-T8', 'T8-P8-1'])))\u001B[0m\u001B[0;34m\u001B[0m\u001B[0;34m\u001B[0m\u001B[0;34m\u001B[0m\u001B[0m\n",
      "\u001B[0;32m~/opt/anaconda3/lib/python3.8/site-packages/mne/io/edf/edf.py\u001B[0m in \u001B[0;36mread_raw_edf\u001B[0;34m(input_fname, eog, misc, stim_channel, exclude, preload, verbose)\u001B[0m\n\u001B[1;32m   1167\u001B[0m         raise NotImplementedError(\n\u001B[1;32m   1168\u001B[0m             'Only EDF files are supported by read_raw_edf, got %s' % (ext,))\n\u001B[0;32m-> 1169\u001B[0;31m     return RawEDF(input_fname=input_fname, eog=eog, misc=misc,\n\u001B[0m\u001B[1;32m   1170\u001B[0m                   \u001B[0mstim_channel\u001B[0m\u001B[0;34m=\u001B[0m\u001B[0mstim_channel\u001B[0m\u001B[0;34m,\u001B[0m \u001B[0mexclude\u001B[0m\u001B[0;34m=\u001B[0m\u001B[0mexclude\u001B[0m\u001B[0;34m,\u001B[0m \u001B[0mpreload\u001B[0m\u001B[0;34m=\u001B[0m\u001B[0mpreload\u001B[0m\u001B[0;34m,\u001B[0m\u001B[0;34m\u001B[0m\u001B[0;34m\u001B[0m\u001B[0m\n\u001B[1;32m   1171\u001B[0m                   verbose=verbose)\n",
      "\u001B[0;32m<decorator-gen-177>\u001B[0m in \u001B[0;36m__init__\u001B[0;34m(self, input_fname, eog, misc, stim_channel, exclude, preload, verbose)\u001B[0m\n",
      "\u001B[0;32m~/opt/anaconda3/lib/python3.8/site-packages/mne/io/edf/edf.py\u001B[0m in \u001B[0;36m__init__\u001B[0;34m(self, input_fname, eog, misc, stim_channel, exclude, preload, verbose)\u001B[0m\n\u001B[1;32m    112\u001B[0m         \u001B[0mlogger\u001B[0m\u001B[0;34m.\u001B[0m\u001B[0minfo\u001B[0m\u001B[0;34m(\u001B[0m\u001B[0;34m'Extracting EDF parameters from {}...'\u001B[0m\u001B[0;34m.\u001B[0m\u001B[0mformat\u001B[0m\u001B[0;34m(\u001B[0m\u001B[0minput_fname\u001B[0m\u001B[0;34m)\u001B[0m\u001B[0;34m)\u001B[0m\u001B[0;34m\u001B[0m\u001B[0;34m\u001B[0m\u001B[0m\n\u001B[1;32m    113\u001B[0m         \u001B[0minput_fname\u001B[0m \u001B[0;34m=\u001B[0m \u001B[0mos\u001B[0m\u001B[0;34m.\u001B[0m\u001B[0mpath\u001B[0m\u001B[0;34m.\u001B[0m\u001B[0mabspath\u001B[0m\u001B[0;34m(\u001B[0m\u001B[0minput_fname\u001B[0m\u001B[0;34m)\u001B[0m\u001B[0;34m\u001B[0m\u001B[0;34m\u001B[0m\u001B[0m\n\u001B[0;32m--> 114\u001B[0;31m         info, edf_info, orig_units = _get_info(input_fname,\n\u001B[0m\u001B[1;32m    115\u001B[0m                                                \u001B[0mstim_channel\u001B[0m\u001B[0;34m,\u001B[0m \u001B[0meog\u001B[0m\u001B[0;34m,\u001B[0m \u001B[0mmisc\u001B[0m\u001B[0;34m,\u001B[0m\u001B[0;34m\u001B[0m\u001B[0;34m\u001B[0m\u001B[0m\n\u001B[1;32m    116\u001B[0m                                                exclude, preload)\n",
      "\u001B[0;32m~/opt/anaconda3/lib/python3.8/site-packages/mne/io/edf/edf.py\u001B[0m in \u001B[0;36m_get_info\u001B[0;34m(fname, stim_channel, eog, misc, exclude, preload)\u001B[0m\n\u001B[1;32m    356\u001B[0m     \u001B[0mmisc\u001B[0m \u001B[0;34m=\u001B[0m \u001B[0mmisc\u001B[0m \u001B[0;32mif\u001B[0m \u001B[0mmisc\u001B[0m \u001B[0;32mis\u001B[0m \u001B[0;32mnot\u001B[0m \u001B[0;32mNone\u001B[0m \u001B[0;32melse\u001B[0m \u001B[0;34m[\u001B[0m\u001B[0;34m]\u001B[0m\u001B[0;34m\u001B[0m\u001B[0;34m\u001B[0m\u001B[0m\n\u001B[1;32m    357\u001B[0m \u001B[0;34m\u001B[0m\u001B[0m\n\u001B[0;32m--> 358\u001B[0;31m     \u001B[0medf_info\u001B[0m\u001B[0;34m,\u001B[0m \u001B[0morig_units\u001B[0m \u001B[0;34m=\u001B[0m \u001B[0m_read_header\u001B[0m\u001B[0;34m(\u001B[0m\u001B[0mfname\u001B[0m\u001B[0;34m,\u001B[0m \u001B[0mexclude\u001B[0m\u001B[0;34m)\u001B[0m\u001B[0;34m\u001B[0m\u001B[0;34m\u001B[0m\u001B[0m\n\u001B[0m\u001B[1;32m    359\u001B[0m \u001B[0;34m\u001B[0m\u001B[0m\n\u001B[1;32m    360\u001B[0m     \u001B[0;31m# XXX: `tal_ch_names` to pass to `_check_stim_channel` should be computed\u001B[0m\u001B[0;34m\u001B[0m\u001B[0;34m\u001B[0m\u001B[0;34m\u001B[0m\u001B[0m\n",
      "\u001B[0;32m~/opt/anaconda3/lib/python3.8/site-packages/mne/io/edf/edf.py\u001B[0m in \u001B[0;36m_read_header\u001B[0;34m(fname, exclude)\u001B[0m\n\u001B[1;32m    343\u001B[0m     \u001B[0mlogger\u001B[0m\u001B[0;34m.\u001B[0m\u001B[0minfo\u001B[0m\u001B[0;34m(\u001B[0m\u001B[0;34m'%s file detected'\u001B[0m \u001B[0;34m%\u001B[0m \u001B[0mext\u001B[0m\u001B[0;34m.\u001B[0m\u001B[0mupper\u001B[0m\u001B[0;34m(\u001B[0m\u001B[0;34m)\u001B[0m\u001B[0;34m)\u001B[0m\u001B[0;34m\u001B[0m\u001B[0;34m\u001B[0m\u001B[0m\n\u001B[1;32m    344\u001B[0m     \u001B[0;32mif\u001B[0m \u001B[0mext\u001B[0m \u001B[0;32min\u001B[0m \u001B[0;34m(\u001B[0m\u001B[0;34m'bdf'\u001B[0m\u001B[0;34m,\u001B[0m \u001B[0;34m'edf'\u001B[0m\u001B[0;34m)\u001B[0m\u001B[0;34m:\u001B[0m\u001B[0;34m\u001B[0m\u001B[0;34m\u001B[0m\u001B[0m\n\u001B[0;32m--> 345\u001B[0;31m         \u001B[0;32mreturn\u001B[0m \u001B[0m_read_edf_header\u001B[0m\u001B[0;34m(\u001B[0m\u001B[0mfname\u001B[0m\u001B[0;34m,\u001B[0m \u001B[0mexclude\u001B[0m\u001B[0;34m)\u001B[0m\u001B[0;34m\u001B[0m\u001B[0;34m\u001B[0m\u001B[0m\n\u001B[0m\u001B[1;32m    346\u001B[0m     \u001B[0;32melif\u001B[0m \u001B[0mext\u001B[0m \u001B[0;32min\u001B[0m \u001B[0;34m(\u001B[0m\u001B[0;34m'gdf'\u001B[0m\u001B[0;34m)\u001B[0m\u001B[0;34m:\u001B[0m\u001B[0;34m\u001B[0m\u001B[0;34m\u001B[0m\u001B[0m\n\u001B[1;32m    347\u001B[0m         \u001B[0;32mreturn\u001B[0m \u001B[0m_read_gdf_header\u001B[0m\u001B[0;34m(\u001B[0m\u001B[0mfname\u001B[0m\u001B[0;34m,\u001B[0m \u001B[0mexclude\u001B[0m\u001B[0;34m)\u001B[0m\u001B[0;34m,\u001B[0m \u001B[0;32mNone\u001B[0m\u001B[0;34m\u001B[0m\u001B[0;34m\u001B[0m\u001B[0m\n",
      "\u001B[0;32m~/opt/anaconda3/lib/python3.8/site-packages/mne/io/edf/edf.py\u001B[0m in \u001B[0;36m_read_edf_header\u001B[0;34m(fname, exclude)\u001B[0m\n\u001B[1;32m    518\u001B[0m     \u001B[0medf_info\u001B[0m \u001B[0;34m=\u001B[0m \u001B[0;34m{\u001B[0m\u001B[0;34m'events'\u001B[0m\u001B[0;34m:\u001B[0m \u001B[0;34m[\u001B[0m\u001B[0;34m]\u001B[0m\u001B[0;34m}\u001B[0m\u001B[0;34m\u001B[0m\u001B[0;34m\u001B[0m\u001B[0m\n\u001B[1;32m    519\u001B[0m \u001B[0;34m\u001B[0m\u001B[0m\n\u001B[0;32m--> 520\u001B[0;31m     \u001B[0;32mwith\u001B[0m \u001B[0mopen\u001B[0m\u001B[0;34m(\u001B[0m\u001B[0mfname\u001B[0m\u001B[0;34m,\u001B[0m \u001B[0;34m'rb'\u001B[0m\u001B[0;34m)\u001B[0m \u001B[0;32mas\u001B[0m \u001B[0mfid\u001B[0m\u001B[0;34m:\u001B[0m\u001B[0;34m\u001B[0m\u001B[0;34m\u001B[0m\u001B[0m\n\u001B[0m\u001B[1;32m    521\u001B[0m \u001B[0;34m\u001B[0m\u001B[0m\n\u001B[1;32m    522\u001B[0m         \u001B[0mfid\u001B[0m\u001B[0;34m.\u001B[0m\u001B[0mread\u001B[0m\u001B[0;34m(\u001B[0m\u001B[0;36m8\u001B[0m\u001B[0;34m)\u001B[0m  \u001B[0;31m# version (unused here)\u001B[0m\u001B[0;34m\u001B[0m\u001B[0;34m\u001B[0m\u001B[0m\n",
      "\u001B[0;31mFileNotFoundError\u001B[0m: [Errno 2] No such file or directory: '/Users/sofiyagarkot/Desktop/Signals/coursework/test_data/chb01_03.edf'"
     ]
    }
   ],
   "source": [
    "# !pip install mne\n",
    "import mne\n",
    "file = \"./test_data/chb01_03.edf\"\n",
    "data = mne.io.read_raw_edf(file)\n",
    "data.rename_channels(mapping)\n",
    "# print(set(data.ch_names).difference(set(['FP1-F7', 'F7-T7', 'T7-P7', 'P7-O1', 'FP1-F3', 'F3-C3', 'C3-P3', 'P3-O1', 'FP2-F4', 'F4-C4', 'C4-P4', 'P4-O2', 'FP2-F8', 'F8-T8', 'T8-P8-0', 'P8-O2', 'FZ-CZ', 'CZ-PZ', 'P7-T7', 'T7-FT9', 'FT9-FT10', 'FT10-T8', 'T8-P8-1'])))\n",
    "data.set_montage(\"standard_1020\",on_missing='ignore')\n",
    "raw_data = data.get_data()\n",
    "# you can get the metadata included in the file and a list of all channels:\n",
    "info = data.info\n",
    "channels = data.ch_names\n",
    "# seizures_file = \"./test_data/chb01_03_seizures.edf\"\n",
    "# seizures = mne.io.read_raw_edf(seizures_file)"
   ]
  },
  {
   "cell_type": "code",
   "execution_count": null,
   "metadata": {},
   "outputs": [],
   "source": [
    "required = ['FP1-F7', 'F7-T7', 'T7-P7', 'P7-O1', 'FP1-F3', 'F3-C3', 'C3-P3', 'P3-O1', 'FP2-F4', 'F4-C4', 'C4-P4', 'P4-O2', 'FP2-F8', 'F8-T8', 'T8-P8-0', 'P8-O2', 'FZ-CZ', 'CZ-PZ', 'P7-T7', 'T7-FT9', 'FT9-FT10', 'FT10-T8', 'T8-P8-1']"
   ]
  },
  {
   "cell_type": "code",
   "execution_count": null,
   "metadata": {
    "pycharm": {
     "name": "#%%\n"
    }
   },
   "outputs": [],
   "source": [
    "channels"
   ]
  },
  {
   "cell_type": "code",
   "execution_count": null,
   "metadata": {},
   "outputs": [],
   "source": [
    "data.plot(duration=5, n_channels=len(channels)//2)"
   ]
  },
  {
   "cell_type": "code",
   "execution_count": null,
   "metadata": {},
   "outputs": [],
   "source": [
    "data.plot_psd(fmax=128)"
   ]
  },
  {
   "cell_type": "code",
   "execution_count": null,
   "metadata": {},
   "outputs": [],
   "source": [
    "info"
   ]
  },
  {
   "cell_type": "code",
   "execution_count": null,
   "metadata": {},
   "outputs": [],
   "source": [
    "channels"
   ]
  },
  {
   "cell_type": "markdown",
   "metadata": {},
   "source": [
    "# Independent Component Analysis"
   ]
  },
  {
   "cell_type": "markdown",
   "metadata": {},
   "source": [
    "It is not hard to see how this analogy applies to EEG/MEG analysis: there are many “microphones” (sensor channels) simultaneously recording many “instruments” (blinks, heartbeats, activity in different areas of the brain, muscular activity from jaw clenching or swallowing, etc). As long as these various source signals are statistically independent and non-gaussian, it is usually possible to separate the sources using ICA, and then re-construct the sensor signals after excluding the sources that are unwanted.\n",
    "\n",
    "https://mne.tools/stable/auto_tutorials/preprocessing/plot_40_artifact_correction_ica.html#what-is-ica\n"
   ]
  },
  {
   "cell_type": "markdown",
   "metadata": {},
   "source": [
    "Warning!\n",
    "\n",
    "ICA is sensitive to low-frequency drifts and therefore requires the data to be high-pass filtered prior to fitting. Typically, a cutoff frequency of 1 Hz is recommended."
   ]
  },
  {
   "cell_type": "markdown",
   "metadata": {},
   "source": [
    "# Filtering"
   ]
  },
  {
   "cell_type": "markdown",
   "metadata": {},
   "source": [
    "Спитати що якщо немає очевидних джерех побічних сигналів (електричних активностей на ЕЕГ)"
   ]
  },
  {
   "cell_type": "code",
   "execution_count": null,
   "metadata": {},
   "outputs": [],
   "source": [
    "filt_raw = data.copy()\n",
    "filt_raw.load_data().filter(l_freq=0.5, h_freq=40)\n",
    "ica = mne.preprocessing.ICA(n_components=20, random_state=97)\n",
    "ica.fit(filt_raw)\n",
    "data.load_data()\n",
    "ica.plot_sources(data)"
   ]
  },
  {
   "cell_type": "code",
   "execution_count": null,
   "metadata": {},
   "outputs": [],
   "source": [
    "ica = mne.preprocessing.ICA(n_components=15, random_state=97)\n",
    "ica.fit(filt_raw)"
   ]
  },
  {
   "cell_type": "code",
   "execution_count": null,
   "metadata": {},
   "outputs": [],
   "source": [
    "data.load_data()\n",
    "ica.plot_sources(data)"
   ]
  },
  {
   "cell_type": "code",
   "execution_count": null,
   "metadata": {},
   "outputs": [],
   "source": [
    "\n"
   ]
  },
  {
   "cell_type": "markdown",
   "metadata": {},
   "source": [
    "# Ентропія перестановок для передбачення початку нападу епілепсії\n",
    "Оцінює хаотичність часового ряду\n",
    "Міра яка зарактеризує символьну динаміку (оцінюються не числові значення а те що вони ознасають без значення того, чому це рівно)\n",
    "Оцінює те, які мотиви (паттерни) знаходяться в нашому сигналі\n",
    "https://drive.google.com/file/d/17yZRraKMTLqjIkbtQr0JKlru47dPIEjD/view \n",
    "\n",
    "Ентропія перестановок кількісно оцінює наскільки хаотичний наш сигнал. В разі, якщо значення ентропії дуже мале (або ж починається зменшуватись), тоді система починає слідувати певній впорядкованості -- стававти більш передбачуваною. \n",
    "\n",
    "Ентропія перестановок системи залежить від двох змінних (окрім самого сигналу):\n",
    "\n",
    "1) Порядком ентропії -- кількість точок які ми беремо до уваги при формуванні певних патернів\n",
    "\n",
    "2) Параметром затримки -- кількість точок (відліків сигналу) яку ми пропускаємо перш ніж \"взяти до уваги\" наступний елемент сигналу. Інтервал між сусідніми точками в патерні. \n",
    "\n",
    "Code of permutation entropy got from: https://pydoc.net/pyentrp/0.3.1/pyentrp.entropy/ "
   ]
  },
  {
   "cell_type": "code",
   "execution_count": null,
   "metadata": {},
   "outputs": [],
   "source": [
    "import numpy as np\n",
    "import itertools\n",
    "def permutation_entropy(time_series, m, delay):\n",
    "    \"\"\"Calculate the Permutation Entropy\n",
    " \n",
    "    Args:\n",
    "        time_series: Time series for analysis\n",
    "        m: Order of permutation entropy\n",
    "        delay: Time delay\n",
    " \n",
    "    Returns:\n",
    "        Vector containing Permutation Entropy\n",
    " \n",
    "    Reference:\n",
    "        [1] Massimiliano Zanin et al. Permutation Entropy and Its Main Biomedical and Econophysics Applications:\n",
    "            A Review. http://www.mdpi.com/1099-4300/14/8/1553/pdf\n",
    "        [2] Christoph Bandt and Bernd Pompe. Permutation entropy — a natural complexity\n",
    "            measure for time series. http://stubber.math-inf.uni-greifswald.de/pub/full/prep/2001/11.pdf\n",
    "        [3] http://www.mathworks.com/matlabcentral/fileexchange/37289-permutation-entropy/content/pec.m\n",
    "    \"\"\"\n",
    "    n = len(time_series)\n",
    "    permutations = np.array(list(itertools.permutations(range(m))))\n",
    "    c = [0] * len(permutations)\n",
    " \n",
    "    for i in range(n - delay * (m - 1)):\n",
    "        # sorted_time_series =    np.sort(time_series[i:i+delay*m:delay], kind='quicksort')\n",
    "        sorted_index_array = np.array(np.argsort(time_series[i:i + delay * m:delay], kind='quicksort'))\n",
    "        for j in range(len(permutations)):\n",
    "            if abs(permutations[j] - sorted_index_array).any() == 0:\n",
    "                c[j] += 1\n",
    " \n",
    "    c = [element for element in c if element != 0]\n",
    "    p = np.divide(np.array(c), float(sum(c)))\n",
    "    pe = -sum(p * np.log(p))/np.log(np.math.factorial(m))\n",
    "    return pe"
   ]
  },
  {
   "cell_type": "code",
   "execution_count": null,
   "metadata": {},
   "outputs": [],
   "source": [
    "fs = 256\n",
    "window_duration = 1 \n",
    "len_of_window = 1*fs\n",
    "number_of_periods = len(raw_data[0])/256\n",
    "first_channel_signal = raw_data[0]\n",
    "m = 3\n",
    "lag = 3\n",
    "\n",
    "def get_permutation(fs, window_duration, signal, m, lag):\n",
    "    number_of_periods = len(signal) // fs\n",
    "    \n",
    "    permutation_en = []\n",
    "    \n",
    "    for starting_period in range(number_of_periods):\n",
    "        signal_ = signal[starting_period*fs:(starting_period+window_duration)*fs]\n",
    "        entropy = permutation_entropy(signal_, m, lag)\n",
    "        permutation_en.append(entropy)\n",
    "        \n",
    "    return permutation_en\n",
    "\n",
    "permutations_first_channel = []\n",
    "time_ = np.arange(0, number_of_periods, 1)\n",
    "\n",
    "for starting_period in range(int(number_of_periods)):\n",
    "    signal_ = first_channel_signal[starting_period*fs:(starting_period+window_duration)*fs]\n",
    "    entropy = permutation_entropy(signal_, m, lag)\n",
    "    permutations_first_channel.append(entropy)\n",
    "     "
   ]
  },
  {
   "cell_type": "code",
   "execution_count": null,
   "metadata": {},
   "outputs": [],
   "source": [
    "permutation_entropy(raw_data[0], 3, 1), permutation_entropy(raw_data[1], 3, 1), permutation_entropy(raw_data[3], 3, 1)"
   ]
  },
  {
   "cell_type": "code",
   "execution_count": null,
   "metadata": {},
   "outputs": [],
   "source": [
    "import matplotlib.pyplot as plt\n",
    "fig= plt.figure(figsize=(30,10))  \n",
    "plt.plot(time_, get_permutation(256, 1, first_channel_signal, 3,3), COLORS[0], label = 'Channel '+str(1))\n",
    "plt.xlabel('Time, s', fontsize = 18)\n",
    "plt.ylabel('Entropy', fontsize = 18) \n",
    "plt.title('Permutation entropy as a function of time', weight='bold', fontsize=35)\n",
    "plt.legend(fontsize='xx-large')\n",
    "plt.show()"
   ]
  },
  {
   "cell_type": "markdown",
   "metadata": {},
   "source": [
    "# Виділення області епілептичного нападу з довколишнім часом в х секунд. "
   ]
  },
  {
   "cell_type": "code",
   "execution_count": null,
   "metadata": {
    "scrolled": false
   },
   "outputs": [],
   "source": [
    "seizure_time = [2996, 3036]\n",
    "window_before = 100\n",
    "window_after = 50\n",
    "count_start = (seizure_time[0] - window_before)*fs\n",
    "count_end = (seizure_time[1] + window_after)*fs\n",
    "epilepsy_region_ch0 = raw_data[0][count_start:count_end]\n",
    "epilepsy_region_ch1 = raw_data[1][count_start:count_end]\n",
    "epilepsy_region_ch2 = raw_data[2][count_start:count_end]\n",
    "n_counts = (seizure_time[1] + window_after)*fs - (seizure_time[0] - window_before)*fs\n",
    "# time_ = np.linspace(seizure_time[0] - window_before, seizure_time[1] + window_after, n_counts)\n",
    "time_ = np.arange(seizure_time[0] - window_before, seizure_time[1] + window_after, 1)\n",
    "# permutation_epilepsy_region = \n",
    "\n",
    "fig= plt.figure(figsize=(30,10))  \n",
    "plt.plot(time_, get_permutation(fs, 1, epilepsy_region_ch0, 3, 3), COLORS[0], label = 'Channel '+str(1))\n",
    "plt.plot(time_, get_permutation(fs, 1, epilepsy_region_ch1, 3, 3), COLORS[4], label = 'Channel '+str(2))\n",
    "plt.plot(time_, get_permutation(fs, 1, epilepsy_region_ch2, 3, 3), COLORS[2], label = 'Channel '+str(3))\n",
    "plt.xlabel('Time, s', fontsize = 18)\n",
    "plt.ylabel('Entropy', fontsize = 18) \n",
    "plt.title('Permutation entropy as a function of time', weight='bold', fontsize=35)\n",
    "plt.legend(fontsize='xx-large')\n",
    "plt.show()\n",
    "\n",
    "for ch_indx in range(len(channels)):\n",
    "    print(ch_indx, channels[ch_indx])\n",
    "    epilepsy_region = raw_data[ch_indx][count_start:count_end]\n",
    "    fig= plt.figure(figsize=(30,10))  \n",
    "    plt.plot(time_, get_permutation(fs, 1, epilepsy_region, 3, 3), COLORS[ch_indx], label = 'Channel '+str(channels[ch_indx]))\n",
    "    plt.xlabel('Time, s', fontsize = 18)\n",
    "    plt.ylabel('Entropy', fontsize = 18) \n",
    "    plt.title('Permutation entropy as a function of time', weight='bold', fontsize=35)\n",
    "    plt.legend(fontsize='xx-large')\n",
    "    plt.show()"
   ]
  },
  {
   "cell_type": "code",
   "execution_count": null,
   "metadata": {},
   "outputs": [],
   "source": [
    "collecting_ = []\n",
    "average = []\n",
    "for ch_indx in range(len(channels)):\n",
    "    print(ch_indx, channels[ch_indx])\n",
    "    epilepsy_region = raw_data[ch_indx][count_start:count_end]\n",
    "    collecting_.append(get_permutation(fs, 1, epilepsy_region, 3, 3))\n",
    "    \n",
    "for a in range(len(collecting_[0])):\n",
    "    value = []\n",
    "    for vector in collecting_:\n",
    "        value.append(vector[a])\n",
    "    average.append(sum(value)/len(value))\n",
    "fig= plt.figure(figsize=(30,10))  \n",
    "plt.plot(time_, average, COLORS[8], label = 'Average')\n",
    "plt.xlabel('Time, s', fontsize = 18)\n",
    "plt.ylabel('Entropy', fontsize = 18) \n",
    "plt.title('Permutation entropy as a function of time', weight='bold', fontsize=35)\n",
    "plt.legend(fontsize='xx-large')\n",
    "plt.show()\n",
    "\n"
   ]
  },
  {
   "cell_type": "markdown",
   "metadata": {},
   "source": [
    "Можна помітити, що з часом сигнал на певних каналах стає все більш передбачуваним, в той час як на інших каналах ентропія перестановок під час епілептичного нападу навпаки збільшуватиметься. Для того, щоб не змішувати різні тренди ентропії методом усереднення я використаю алгоритм ІСА для отримання сигналів"
   ]
  },
  {
   "cell_type": "markdown",
   "metadata": {},
   "source": [
    "# Independent Component Analysis"
   ]
  },
  {
   "cell_type": "markdown",
   "metadata": {},
   "source": [
    "It is not hard to see how this analogy applies to EEG/MEG analysis: there are many “microphones” (sensor channels) simultaneously recording many “instruments” (blinks, heartbeats, activity in different areas of the brain, muscular activity from jaw clenching or swallowing, etc). As long as these various source signals are statistically independent and non-gaussian, it is usually possible to separate the sources using ICA, and then re-construct the sensor signals after excluding the sources that are unwanted.\n",
    "\n",
    "https://mne.tools/stable/auto_tutorials/preprocessing/plot_40_artifact_correction_ica.html#what-is-ica\n",
    "\n"
   ]
  },
  {
   "cell_type": "markdown",
   "metadata": {},
   "source": [
    "Warning!\n",
    "\n",
    "ICA is sensitive to low-frequency drifts and therefore requires the data to be high-pass filtered prior to fitting. Typically, a cutoff frequency of 1 Hz is recommended.\n",
    "\n",
    "\n",
    "My preious assumption:\n",
    "By applying the ICA I can виділити основні компоненти зміни такі як м'язева активність, ковтання, серцевий ритм). Тоді проаналізувавши ці компоненти виділити одну, чи декілька і по них поміряти ентропію перестановок, що означатиме, що певні патерни перед епілептичним нападом присутні тільки в завдяки певній активності мозку. "
   ]
  },
  {
   "cell_type": "markdown",
   "metadata": {},
   "source": [
    "# What are artifacts?\n",
    "Artifacts are parts of the recorded signal that arise from sources other than the source of interest (i.e., neuronal activity in the brain). As such, artifacts are a form of interference or noise relative to the signal of interest. There are many possible causes of such interference, for example:\n",
    "\n",
    "Environmental artifacts\n",
    "Persistent oscillations centered around the AC power line frequency (typically 50 or 60 Hz)\n",
    "Brief signal jumps due to building vibration (such as a door slamming)\n",
    "Electromagnetic field noise from nearby elevators, cell phones, the geomagnetic field, etc.\n",
    "Instrumentation artifacts\n",
    "Electromagnetic interference from stimulus presentation (such as EEG sensors picking up the field generated by unshielded headphones)\n",
    "Continuous oscillations at specific frequencies used by head position indicator (HPI) coils\n",
    "Random high-amplitude fluctuations (or alternatively, constant zero signal) in a single channel due to sensor malfunction (e.g., in surface electrodes, poor scalp contact)\n",
    "Biological artifacts\n",
    "Periodic QRS-like signal patterns (especially in magnetometer channels) due to electrical activity of the heart\n",
    "Short step-like deflections (especially in frontal EEG channels) due to eye movements\n",
    "Large transient deflections (especially in frontal EEG channels) due to blinking\n",
    "Brief bursts of high frequency fluctuations across several channels due to the muscular activity during swallowing\n",
    "There are also some cases where signals from within the brain can be considered artifactual. For example, if a researcher is primarily interested in the sensory response to a stimulus, but the experimental paradigm involves a behavioral response (such as button press), the neural activity associated with the planning and executing the button press could be considered an artifact relative to signal of interest (i.e., the evoked sensory response)."
   ]
  },
  {
   "cell_type": "markdown",
   "metadata": {},
   "source": [
    "## Filtering"
   ]
  },
  {
   "cell_type": "code",
   "execution_count": null,
   "metadata": {},
   "outputs": [],
   "source": [
    "filt_raw = data.copy()\n",
    "filt_raw.load_data().filter(l_freq=1., h_freq=None)\n",
    "ica = mne.preprocessing.ICA(n_components=15, random_state=97)\n",
    "ica.fit(filt_raw)\n",
    "data.load_data()\n",
    "ica.plot_sources(data)\n",
    "# ica.plot_components()"
   ]
  },
  {
   "cell_type": "code",
   "execution_count": null,
   "metadata": {},
   "outputs": [],
   "source": [
    "ica.plot_overlay(data, exclude=[0,1,2,3,5], picks='eeg')"
   ]
  },
  {
   "cell_type": "code",
   "execution_count": null,
   "metadata": {},
   "outputs": [],
   "source": [
    "ica.plot_properties(data, picks=[0, 1])"
   ]
  },
  {
   "cell_type": "code",
   "execution_count": null,
   "metadata": {},
   "outputs": [],
   "source": [
    "ten_twenty_montage = mne.channels.make_standard_montage('standard_1020')\n",
    "print(ten_twenty_montage)\n",
    "# fig = ten_twenty_montage.plot(kind='3d')\n",
    "# fig.gca().view_init(azim=70, elev=15)\n",
    "# ten_twenty_montage.plot(kind='topomap', show_names=False)\n",
    "\n",
    "# raw_1020 = data.copy().set_montage(ten_twenty_montage)\n"
   ]
  },
  {
   "cell_type": "code",
   "execution_count": null,
   "metadata": {},
   "outputs": [],
   "source": [
    "ica.plot_properties(data, picks=[0, 1])"
   ]
  },
  {
   "cell_type": "markdown",
   "metadata": {},
   "source": [
    "# Аналіз рекурентності \n",
    "Застосувати для перегляду залежностей в певній області (глянути інженірінг фіч з того пейперу з каглем)\n",
    "І глянути залежності цих фіч в системі на тривалості всього сигналу, або ж тільки під час епілептичних приступів. Можливо перед ними. \n",
    "\n",
    "https://drive.google.com/file/d/1ISutgEutOjZuYhDHGdBGDCcgnJ_yuE6a/view\n"
   ]
  },
  {
   "cell_type": "markdown",
   "metadata": {},
   "source": [
    "# Dispersion analysis"
   ]
  },
  {
   "cell_type": "code",
   "execution_count": null,
   "metadata": {},
   "outputs": [],
   "source": [
    "round(np.var(raw_data[0]),100), round(np.var(raw_data[0][2996*256: 3036*256]),100)"
   ]
  },
  {
   "cell_type": "code",
   "execution_count": null,
   "metadata": {},
   "outputs": [],
   "source": [
    "plt.plot(np.linspace(0, len(raw_data[0])//256, len(raw_data[0])), raw_data[0])"
   ]
  },
  {
   "cell_type": "code",
   "execution_count": null,
   "metadata": {},
   "outputs": [],
   "source": [
    "np.var(raw_data[0][2996*256: 3036*256])/np.var(raw_data[0]), np.var(raw_data[1][2996*256: 3036*256])/np.var(raw_data[1]), np.var(raw_data[2][2996*256: 3036*256])/np.var(raw_data[2])"
   ]
  },
  {
   "cell_type": "code",
   "execution_count": null,
   "metadata": {},
   "outputs": [],
   "source": [
    "from sklearn.decomposition import FastICA\n",
    "type(raw_data), raw_data.shape"
   ]
  },
  {
   "cell_type": "code",
   "execution_count": null,
   "metadata": {},
   "outputs": [],
   "source": [
    "X = raw_data.T\n",
    "transformer = FastICA(n_components=7, random_state=0)\n",
    "X_transformed = transformer.fit_transform(X)\n",
    "X_transformed.shape, X.shape"
   ]
  },
  {
   "cell_type": "code",
   "execution_count": null,
   "metadata": {},
   "outputs": [],
   "source": [
    "fig= plt.figure(figsize=(30,10))  \n",
    "plt.plot(np.linspace(0,len(X.T[0])//256,len(X.T[0])),X.T[0])    \n",
    "#     plt.ylabel('Entropy', fontsize = 18) \n",
    "#     plt.title('Permutation entropy as a function of time', weight='bold', fontsize=35)\n",
    "#     plt.legend(fontsize='xx-large')\n",
    "plt.show()\n"
   ]
  },
  {
   "cell_type": "code",
   "execution_count": null,
   "metadata": {},
   "outputs": [],
   "source": [
    "2996-3036"
   ]
  },
  {
   "cell_type": "code",
   "execution_count": null,
   "metadata": {},
   "outputs": [],
   "source": [
    "#seizure vs non-seizure plot\n",
    "fig= plt.figure(figsize=(30,10))  \n",
    "plt.plot(np.linspace(0,len(X.T[0])//256,40*256),X.T[0][1590*256 : 1630*256], COLORS[0], label = 'Non-seizure activity 1')\n",
    "\n",
    "plt.plot(np.linspace(0,len(X.T[0])//256,40*256),X.T[0][850*256 : 890*256], COLORS[1], label = 'Non-seizure activity 2')\n",
    "\n",
    "plt.plot(np.linspace(0,len(X.T[0])//256,40*256),X.T[0][2996*256 : 3036*256], COLORS[2], label = 'Seizure')\n",
    "plt.plot(np.linspace(0,len(X.T[0])//256,40*256),X.T[0][3500*256 : 3540*256], COLORS[3], label = 'Non-seizure activity 2')\n",
    "\n",
    "plt.legend(fontsize='xx-large')\n",
    "plt.show()\n",
    "\n"
   ]
  },
  {
   "cell_type": "code",
   "execution_count": null,
   "metadata": {},
   "outputs": [],
   "source": [
    "plt.plot(np.arange(0,len(X_transformed[5]),1),X_transformed[0])"
   ]
  },
  {
   "cell_type": "code",
   "execution_count": null,
   "metadata": {},
   "outputs": [],
   "source": []
  }
 ],
 "metadata": {
  "kernelspec": {
   "display_name": "Python 3",
   "language": "python",
   "name": "python3"
  },
  "language_info": {
   "codemirror_mode": {
    "name": "ipython",
    "version": 3
   },
   "file_extension": ".py",
   "mimetype": "text/x-python",
   "name": "python",
   "nbconvert_exporter": "python",
   "pygments_lexer": "ipython3",
   "version": "3.8.3"
  }
 },
 "nbformat": 4,
 "nbformat_minor": 1
}